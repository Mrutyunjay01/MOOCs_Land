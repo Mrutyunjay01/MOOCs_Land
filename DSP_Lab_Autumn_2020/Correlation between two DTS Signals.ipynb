{
 "cells": [
  {
   "cell_type": "markdown",
   "metadata": {},
   "source": [
    "<h2>Write a code for correlation of two given DTSs without using inbuilt\n",
    "function.</h2>"
   ]
  },
  {
   "cell_type": "markdown",
   "metadata": {},
   "source": [
    "\\begin{equation}\n",
    "    y(n) = x(n) * h(-n) = \\sum \\limits _{k=-\\infty} ^{\\infty} x(k) * h(n-k)\n",
    "\\end{equation}"
   ]
  },
  {
   "cell_type": "markdown",
   "metadata": {},
   "source": [
    "<h3>Given data</h3>\n",
    "\n",
    " Discrete time sequences 1 (DTS1): $X_{1}$($n_{1}$) = $\\{1, 2, 3, 4\\}$,  $n_{1} = -1:2$\n",
    "\n",
    " Discrete time sequences 2 (DTS2): $X_{2}$($n_{2}$) = $\\{1, 2, 1, 1\\}$,  $n_{2} = -2:1$\n",
    "\n"
   ]
  },
  {
   "cell_type": "markdown",
   "metadata": {},
   "source": [
    "<p> Before solving it, let me explain my approach. As per the formula, Correlation is same as the convolution of $X(n)$ and $H(-n)$, I will pass these values to our prevously done convolution function."
   ]
  },
  {
   "cell_type": "markdown",
   "metadata": {},
   "source": [
    "<h2>Import Modules</h2>"
   ]
  },
  {
   "cell_type": "code",
   "execution_count": 1,
   "metadata": {},
   "outputs": [],
   "source": [
    "import numpy as np\n",
    "import matplotlib.pyplot as plt"
   ]
  },
  {
   "cell_type": "markdown",
   "metadata": {},
   "source": [
    "<h3>Helper function for plotting</h3>"
   ]
  },
  {
   "cell_type": "code",
   "execution_count": 2,
   "metadata": {},
   "outputs": [],
   "source": [
    "def plot_graph(sequence, val_range, x_label = None, y_label = None, graph_title = None):\n",
    "    \"\"\"\n",
    "    sequene: To plot\n",
    "    val_range: Min-max range of the sequence\n",
    "    x_label, y_label, graph_title: Labelling the plot\n",
    "    \"\"\"\n",
    "    plt.stem(val_range, sequence, use_line_collection= True)\n",
    "    plt.xlabel(x_label)\n",
    "    plt.ylabel(y_label)\n",
    "    plt.title(graph_title)\n",
    "    plt.show()"
   ]
  },
  {
   "cell_type": "markdown",
   "metadata": {},
   "source": [
    "<h3>Folding</h3>"
   ]
  },
  {
   "cell_type": "code",
   "execution_count": 3,
   "metadata": {},
   "outputs": [],
   "source": [
    "def folding(arr, n):\n",
    "    \n",
    "    # sanity check for length of timestamp and signal array must be same\n",
    "    assert len(arr) == len(n)\n",
    "    \n",
    "    n = np.array(n)\n",
    "    index_0 = np.where(n == 0)[0][0]\n",
    "    \n",
    "    # initiate an empty array to store our updated array\n",
    "    new_arr = []\n",
    "    \n",
    "    # push all the positive timestamps to our new arr\n",
    "    # for example in our case\n",
    "    # [-1, 0, 1, 2] will be [-2, -1, 0, 1] and corresponding array values will be updated accordingly\n",
    "    \n",
    "    # push from 2 to 1 in reverse order\n",
    "    for i in range(len(n) - 1, index_0 - 1, -1):\n",
    "        new_arr.append(arr[i])\n",
    "    \n",
    "    # push from 0 to -1 in the same order\n",
    "    for j in arr[:index_0][::-1]:\n",
    "        new_arr.append(j)\n",
    "    \n",
    "    # our n is now [2, 1, 0, -1] hence return the negative sorted values i.e [-2, -1, 0, 1] which is our folded timestamp\n",
    "    return np.array(new_arr), sorted(-n)"
   ]
  },
  {
   "cell_type": "markdown",
   "metadata": {},
   "source": [
    "<h3>Padding</h3>"
   ]
  },
  {
   "cell_type": "code",
   "execution_count": 4,
   "metadata": {},
   "outputs": [],
   "source": [
    "def zero_pad(arr, left_pad=0, right_pad=0):\n",
    "    \n",
    "    # depending on the consequences, we may need left padding i.e adding zeros on the left\n",
    "    # or right padding, i.e adding zeros on the right\n",
    "    # hence we have takes both paddings in the same function\n",
    "    # this function will return an array as such\n",
    "    # [left_padded + original_arr + right_padded]\n",
    "    \n",
    "    padded_arr = np.append(np.zeros((left_pad, )),\n",
    "                          np.append(arr, np.zeros(right_pad, )))\n",
    "    \n",
    "    return padded_arr"
   ]
  },
  {
   "cell_type": "markdown",
   "metadata": {},
   "source": [
    "<h3> Calculate the Convolution </h3>"
   ]
  },
  {
   "cell_type": "code",
   "execution_count": 5,
   "metadata": {},
   "outputs": [],
   "source": [
    "def calculate_convolution(x, h):\n",
    "    \"\"\"\n",
    "    parameters: \n",
    "    x -> zero padded signal of len = max_len i.e l1 + l2 - 1\n",
    "    h -> our folded h(n) signal \n",
    "    \"\"\"\n",
    "    \n",
    "    # initiate the matrix as said above\n",
    "    ans = np.zeros((x.shape[0], x.shape[0]))\n",
    "    \n",
    "    # keep stacking the linear kernels which will be later passed on our padded signal\n",
    "    for i in range(ans.shape[0]):\n",
    "        if i < len(h):\n",
    "            ans[i, :i + 1] = h[-i - 1:]\n",
    "        else:\n",
    "            ans[i, i - len(h)+1: i+1] = h\n",
    "    # print to observe\n",
    "    print('\\nStack of linear kernels: \\n\\n', ans)\n",
    "    \n",
    "    # take the transpose\n",
    "    ans = np.transpose(ans)\n",
    "    \n",
    "    # return matrix multiplication of our padded signal and our kernel matrix, this is our desired result\n",
    "    return np.matmul(x, ans)"
   ]
  },
  {
   "cell_type": "markdown",
   "metadata": {},
   "source": [
    "<h2>Putting it all together</h2>"
   ]
  },
  {
   "cell_type": "code",
   "execution_count": 6,
   "metadata": {},
   "outputs": [],
   "source": [
    "def main(x1, n1, x2, n2):\n",
    "    \"\"\"\n",
    "    Calculates the convolution of x1 and x2 where\n",
    "    x1 -> original signal\n",
    "    x2 -> filter/kernel\n",
    "    n1 -> timestamps of x1\n",
    "    n2 -> timestamps of x2\n",
    "    \"\"\"\n",
    "    # show signal x1\n",
    "    print(\"Signal x is: \", x1)\n",
    "    print(\"\\nTime stamp of X is: \", n1)\n",
    "    plot_graph(x1, n1, y_label='$x1$', x_label='timestamp', graph_title='Signal $x$')\n",
    "\n",
    "    # show signal x2\n",
    "    print(\"\\nSignal H is: \", x2)\n",
    "    print(\"\\nTimestamp of H is: \", n2)\n",
    "    plot_graph(x2, n2, y_label='$h(n)$', x_label='timestamp', graph_title='Signal $h$')\n",
    "\n",
    "\n",
    "    # apply folding on second signal\n",
    "    folded_H, neg_timestamp = folding(x2, n2)\n",
    "    print(\"\\nFolded H is: \", folded_H)\n",
    "    print(\"\\nTimestamp of H is: \", neg_timestamp)\n",
    "    plot_graph(folded_H, neg_timestamp, x_label='timestamp', y_label='$h(-n)$', graph_title='Folded $h(n)$')\n",
    "\n",
    "    # create the resutant timestamp\n",
    "    # take the min of min of timestamps\n",
    "    left_most_timestamp = min(min(n1), min(neg_timestamp))\n",
    "\n",
    "    # calculate the maximum sequence length\n",
    "    max_len_result = len(n1) + len(neg_timestamp) - 1\n",
    "\n",
    "    # initialize the resultant convolution array with zeroes\n",
    "    result_time_stamp = np.arange(left_most_timestamp, left_most_timestamp + max_len_result, 1)\n",
    "    print(\"\\nResultant timestamp would be: \", result_time_stamp)\n",
    "\n",
    "    # pad our Signal X upto the len of max_len\n",
    "    # 3 is obtained from result_time_stamp - len(x1)\n",
    "    X = zero_pad(x1, right_pad=3)\n",
    "\n",
    "    # Here is our result\n",
    "    result = calculate_convolution(X, folded_H)\n",
    "    print('\\nConvolution of Signal x1 and x2 is: ', result)\n",
    "\n",
    "    plot_graph(result, result_time_stamp, x_label='timestamp', y_label='$\\sum x(k) * h(n-k)$', graph_title='Convoution Result')\n",
    "\n",
    "    assert all(np.convolve(x1, x2) == result), 'Computed Result is Wrong'"
   ]
  },
  {
   "cell_type": "markdown",
   "metadata": {},
   "source": [
    "As our $main$ function calculates the convolution of two signals, use it to calculate the convolution of $X(n)$ and $H(-n)$, which is our desired result i.e correlation of $X(n)$ and $H(-n)$."
   ]
  },
  {
   "cell_type": "code",
   "execution_count": 7,
   "metadata": {},
   "outputs": [],
   "source": [
    "def correlation_main(x, n1, h, n2):\n",
    "    \"\"\"\n",
    "    Calculates the corelation of x and h where\n",
    "        x -> original signal\n",
    "        h -> filter/kernel\n",
    "        n1 -> timestamps of x\n",
    "        n2 -> timestamps of h\n",
    "    \n",
    "    steps to follow:\n",
    "        1. flip our signal H(n) given to get H(-n)\n",
    "        2. Call our main() function to calculate the convolution of the original signal and the flipped signal\n",
    "    \"\"\"\n",
    "    \n",
    "    ###################\n",
    "    # Flip the signal H(n) to get H(-n)\n",
    "    flipped_h, flipped_n = folding(h, n2)\n",
    "    \n",
    "    # call our convolution function that we defined above\n",
    "    # pass the arguments, x as main signal and flipped_h as kernel\n",
    "    main(x, n1, flipped_h, flipped_n)\n",
    "    \n",
    "    pass"
   ]
  },
  {
   "cell_type": "code",
   "execution_count": 8,
   "metadata": {},
   "outputs": [
    {
     "name": "stdout",
     "output_type": "stream",
     "text": [
      "Signal x is:  [1 2 3 4]\n",
      "\n",
      "Time stamp of X is:  [-1  0  1  2]\n"
     ]
    },
    {
     "data": {
      "image/png": "[encoded data removed]",
      "text/plain": [
       "<Figure size 432x288 with 1 Axes>"
      ]
     },
     "metadata": {
      "needs_background": "light"
     },
     "output_type": "display_data"
    },
    {
     "name": "stdout",
     "output_type": "stream",
     "text": [
      "\n",
      "Signal H is:  [1 1 2 1]\n",
      "\n",
      "Timestamp of H is:  [-1, 0, 1, 2]\n"
     ]
    },
    {
     "data": {
      "image/png": "[encoded data removed]",
      "text/plain": [
       "<Figure size 432x288 with 1 Axes>"
      ]
     },
     "metadata": {
      "needs_background": "light"
     },
     "output_type": "display_data"
    },
    {
     "name": "stdout",
     "output_type": "stream",
     "text": [
      "\n",
      "Folded H is:  [1 2 1 1]\n",
      "\n",
      "Timestamp of H is:  [-2, -1, 0, 1]\n"
     ]
    },
    {
     "data": {
      "image/png": "[encoded data removed]",
      "text/plain": [
       "<Figure size 432x288 with 1 Axes>"
      ]
     },
     "metadata": {
      "needs_background": "light"
     },
     "output_type": "display_data"
    },
    {
     "name": "stdout",
     "output_type": "stream",
     "text": [
      "\n",
      "Resultant timestamp would be:  [-2 -1  0  1  2  3  4]\n",
      "\n",
      "Stack of linear kernels: \n",
      "\n",
      " [[1. 0. 0. 0. 0. 0. 0.]\n",
      " [1. 1. 0. 0. 0. 0. 0.]\n",
      " [2. 1. 1. 0. 0. 0. 0.]\n",
      " [1. 2. 1. 1. 0. 0. 0.]\n",
      " [0. 1. 2. 1. 1. 0. 0.]\n",
      " [0. 0. 1. 2. 1. 1. 0.]\n",
      " [0. 0. 0. 1. 2. 1. 1.]]\n",
      "\n",
      "Convolution of Signal x1 and x2 is:  [ 1.  3.  7. 12. 12. 11.  4.]\n"
     ]
    },
    {
     "data": {
      "image/png": "[encoded data removed]",
      "text/plain": [
       "<Figure size 432x288 with 1 Axes>"
      ]
     },
     "metadata": {
      "needs_background": "light"
     },
     "output_type": "display_data"
    }
   ],
   "source": [
    "############################\n",
    "# input DTS 1\n",
    "x1 = np.array([1, 2, 3, 4])\n",
    "n1 = np.arange(-1, 3, 1)\n",
    "\n",
    "############################\n",
    "# input DTS 2\n",
    "x2 = np.array([1, 2, 1, 1])\n",
    "n2 = np.arange(-2, 2, 1)\n",
    "\n",
    "\n",
    "############################\n",
    "# call the main function which contains all the implementation\n",
    "correlation_main(x1, n1, x2, n2)"
   ]
  },
  {
   "cell_type": "markdown",
   "metadata": {},
   "source": [
    "<h3>Kindly read the comments and docstring of the functions.</h3>"
   ]
  },
  {
   "cell_type": "markdown",
   "metadata": {},
   "source": [
    "<h4> Submitted by: </h4>\n",
    "\n",
    "_Name_ : **Mrutyujay Biswal**\n",
    "_Roll no_ : **118EI0350**"
   ]
  }
 ],
 "metadata": {
  "kernelspec": {
   "display_name": "Python 3",
   "language": "python",
   "name": "python3"
  },
  "language_info": {
   "codemirror_mode": {
    "name": "ipython",
    "version": 3
   },
   "file_extension": ".py",
   "mimetype": "text/x-python",
   "name": "python",
   "nbconvert_exporter": "python",
   "pygments_lexer": "ipython3",
   "version": "3.7.4"
  }
 },
 "nbformat": 4,
 "nbformat_minor": 4
}
