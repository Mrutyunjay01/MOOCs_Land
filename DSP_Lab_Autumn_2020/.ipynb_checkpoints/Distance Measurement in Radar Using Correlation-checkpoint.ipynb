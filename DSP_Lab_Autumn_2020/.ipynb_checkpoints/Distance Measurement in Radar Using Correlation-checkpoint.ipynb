{
 "cells": [
  {
   "cell_type": "markdown",
   "metadata": {},
   "source": [
    "<h2>Write a code for distance measurement in radar using correlation.</h2>"
   ]
  },
  {
   "cell_type": "markdown",
   "metadata": {},
   "source": [
    "<h2>Import modules</h2>"
   ]
  },
  {
   "cell_type": "code",
   "execution_count": 1,
   "metadata": {},
   "outputs": [],
   "source": [
    "# import modules\n",
    "import numpy as np\n",
    "import matplotlib.pyplot as plt\n",
    "\n",
    "%matplotlib inline"
   ]
  },
  {
   "cell_type": "markdown",
   "metadata": {},
   "source": [
    "<h3>Helper function for plotting</h3>"
   ]
  },
  {
   "cell_type": "code",
   "execution_count": 2,
   "metadata": {},
   "outputs": [],
   "source": [
    "def plot_graph(sequence, val_range, x_label = None, y_label = None, graph_title = None):\n",
    "    \"\"\"\n",
    "    sequene: To plot\n",
    "    val_range: Min-max range of the sequence\n",
    "    x_label, y_label, graph_title: Labelling the plot\n",
    "    \"\"\"\n",
    "    plt.stem(val_range, sequence, use_line_collection= True)\n",
    "    plt.xlabel(x_label)\n",
    "    plt.ylabel(y_label)\n",
    "    plt.title(graph_title)\n",
    "    plt.show()"
   ]
  },
  {
   "cell_type": "markdown",
   "metadata": {},
   "source": [
    "<h3>Folding</h3>"
   ]
  },
  {
   "cell_type": "code",
   "execution_count": 3,
   "metadata": {},
   "outputs": [],
   "source": [
    "def folding(arr, n):\n",
    "    \n",
    "    # sanity check for length of timestamp and signal array must be same\n",
    "    assert len(arr) == len(n)\n",
    "    \n",
    "    n = np.array(n)\n",
    "    index_0 = np.where(n == 0)[0][0]\n",
    "    \n",
    "    # initiate an empty array to store our updated array\n",
    "    new_arr = []\n",
    "    \n",
    "    # push all the positive timestamps to our new arr\n",
    "    # for example in our case\n",
    "    # [-1, 0, 1, 2] will be [-2, -1, 0, 1] and corresponding array values will be updated accordingly\n",
    "    \n",
    "    # push from 2 to 1 in reverse order\n",
    "    for i in range(len(n) - 1, index_0 - 1, -1):\n",
    "        new_arr.append(arr[i])\n",
    "    \n",
    "    # push from 0 to -1 in the same order\n",
    "    for j in arr[:index_0][::-1]:\n",
    "        new_arr.append(j)\n",
    "    \n",
    "    # our n is now [2, 1, 0, -1] hence return the negative sorted values i.e [-2, -1, 0, 1] which is our folded timestamp\n",
    "    return np.array(new_arr), sorted(-n)"
   ]
  },
  {
   "cell_type": "markdown",
   "metadata": {},
   "source": [
    "<h3>Padding</h3>"
   ]
  },
  {
   "cell_type": "code",
   "execution_count": 4,
   "metadata": {},
   "outputs": [],
   "source": [
    "def zero_pad(arr, left_pad=0, right_pad=0):\n",
    "    \n",
    "    # depending on the consequences, we may need left padding i.e adding zeros on the left\n",
    "    # or right padding, i.e adding zeros on the right\n",
    "    # hence we have takes both paddings in the same function\n",
    "    # this function will return an array as such\n",
    "    # [left_padded + original_arr + right_padded]\n",
    "    \n",
    "    padded_arr = np.append(np.zeros((left_pad, )),\n",
    "                          np.append(arr, np.zeros(right_pad, )))\n",
    "    \n",
    "    return padded_arr"
   ]
  },
  {
   "cell_type": "markdown",
   "metadata": {},
   "source": [
    "<h3>(a) Consider 13-point Barker sequence.</h3>\n",
    "\n",
    "    X(n) = {+1, +1, +1, +1, +1,-1 -1, +1, +1 -1, +1 -1, +1}"
   ]
  },
  {
   "cell_type": "markdown",
   "metadata": {},
   "source": [
    "<h5>Consider a timestamp of length 50</h5>"
   ]
  },
  {
   "cell_type": "code",
   "execution_count": 11,
   "metadata": {},
   "outputs": [
    {
     "name": "stdout",
     "output_type": "stream",
     "text": [
      "[-30 -29 -28 -27 -26 -25 -24 -23 -22 -21 -20 -19 -18 -17 -16 -15 -14 -13\n",
      " -12 -11 -10  -9  -8  -7  -6  -5  -4  -3  -2  -1   0   1   2   3   4   5\n",
      "   6   7   8   9  10  11  12  13  14  15  16  17  18  19  20  21  22  23\n",
      "  24  25  26  27  28  29  30]\n"
     ]
    }
   ],
   "source": [
    "# taking the timestamp from -30 to 30 for all\n",
    "t = np.arange(-30, 31, 1)\n",
    "print(t)"
   ]
  },
  {
   "cell_type": "code",
   "execution_count": 14,
   "metadata": {},
   "outputs": [
    {
     "data": {
      "text/plain": [
       "(43,)"
      ]
     },
     "execution_count": 14,
     "metadata": {},
     "output_type": "execute_result"
    }
   ],
   "source": [
    "np.append(np.zeros((30, )), X_n).shape"
   ]
  },
  {
   "cell_type": "code",
   "execution_count": 17,
   "metadata": {},
   "outputs": [
    {
     "name": "stdout",
     "output_type": "stream",
     "text": [
      "Our Original Signal is:  [ 1  1  1  1  1 -1 -1  1  1 -1  1 -1  1]\n",
      "Our padded signal with same length as timestamp: \n",
      " [ 0.  0.  0.  0.  0.  0.  0.  0.  0.  0.  0.  0.  0.  0.  0.  0.  0.  0.\n",
      "  0.  0.  0.  0.  0.  0.  0.  0.  0.  0.  0.  0.  1.  1.  1.  1.  1. -1.\n",
      " -1.  1.  1. -1.  1. -1.  1.  0.  0.  0.  0.  0.  0.  0.  0.  0.  0.  0.\n",
      "  0.  0.  0.  0.  0.  0.  0.]\n"
     ]
    },
    {
     "data": {
      "image/png": "[encoded data removed]",
      "text/plain": [
       "<Figure size 432x288 with 1 Axes>"
      ]
     },
     "metadata": {
      "needs_background": "light"
     },
     "output_type": "display_data"
    }
   ],
   "source": [
    "# consider a 13-point Barker sequence\n",
    "X_n = np.array([1, 1, 1, 1, 1, -1, -1, 1, 1, -1, 1, -1, 1])\n",
    "print('Our Original Signal is: ', X_n)\n",
    "\n",
    "# pad the X(n) to have same length as our time steps\n",
    "X_n = np.append(np.append(np.zeros((30, )), X_n), np.zeros((18, )))\n",
    "print('Our padded signal with same length as timestamp: \\n', X_n)\n",
    "\n",
    "plt.plot(t, X_n)\n",
    "plt.xlabel('Timestamp')\n",
    "plt.ylabel('Barker Sequence $X(n)$')\n",
    "plt.show()"
   ]
  },
  {
   "cell_type": "markdown",
   "metadata": {},
   "source": [
    "<h3>b) Take V (n) be a Gaussian random sequence with zero mean and variance.</h3>"
   ]
  },
  {
   "cell_type": "markdown",
   "metadata": {},
   "source": [
    "\n",
    "\\begin{equation}\n",
    "    \\mu = 0, \\sigma = 0.01\n",
    "\\end{equation}"
   ]
  },
  {
   "cell_type": "code",
   "execution_count": 18,
   "metadata": {},
   "outputs": [
    {
     "name": "stdout",
     "output_type": "stream",
     "text": [
      "Our random Gaussian Noise is: \n",
      " [-0.01544308 -0.00683145 -0.01597976  0.00524598  0.01345065 -0.01281332\n",
      " -0.00735784  0.00212147 -0.00232266 -0.00874316 -0.00341715 -0.0159265\n",
      "  0.00120354]\n",
      "Our padded Gaussian Signal: \n",
      " [ 0.          0.          0.          0.          0.          0.\n",
      "  0.          0.          0.          0.          0.          0.\n",
      "  0.          0.          0.          0.          0.          0.\n",
      "  0.          0.          0.          0.          0.          0.\n",
      "  0.          0.          0.          0.          0.          0.\n",
      " -0.01544308 -0.00683145 -0.01597976  0.00524598  0.01345065 -0.01281332\n",
      " -0.00735784  0.00212147 -0.00232266 -0.00874316 -0.00341715 -0.0159265\n",
      "  0.00120354  0.          0.          0.          0.          0.\n",
      "  0.          0.          0.          0.          0.          0.\n",
      "  0.          0.          0.          0.          0.          0.\n",
      "  0.        ]\n"
     ]
    },
    {
     "data": {
      "image/png": "[encoded data removed]",
      "text/plain": [
       "<Figure size 432x288 with 1 Axes>"
      ]
     },
     "metadata": {
      "needs_background": "light"
     },
     "output_type": "display_data"
    }
   ],
   "source": [
    "# Generate a gaussian random sequence with 0 maen and 0.01 std var\n",
    "V_n = np.random.normal(0, 0.01, 13)\n",
    "print('Our random Gaussian Noise is: \\n', V_n)\n",
    "\n",
    "# pad the X(n) to have same length as our time steps\n",
    "V_n = np.append(np.append(np.zeros((30, )), V_n), np.zeros((18, )))\n",
    "print('Our padded Gaussian Signal: \\n', V_n)\n",
    "\n",
    "plt.plot(V_n)\n",
    "plt.xlabel('Timestamp')\n",
    "plt.ylabel('Gaussian Sequence $X(n)$')\n",
    "plt.show()"
   ]
  },
  {
   "cell_type": "markdown",
   "metadata": {},
   "source": [
    "<h3>c) Generate a sequence Y(n), Where</h3>\n",
    "<br>\n",
    "\\begin{equation}\n",
    "    Y(n) = a X(n-D) + V(n)\n",
    "\\end{equation}\n",
    "\n",
    "- Take Delay D = $20$, a = $0.9$"
   ]
  },
  {
   "cell_type": "code",
   "execution_count": null,
   "metadata": {},
   "outputs": [],
   "source": [
    "def shift_d(x, d):\n",
    "    \n",
    "    # as we are shiting it forward with D timesteps\n",
    "    for i in range(x.shape[0]-d):\n",
    "        x[i, :] = "
   ]
  },
  {
   "cell_type": "markdown",
   "metadata": {},
   "source": [
    "<h3>d) Plot the Signal</h3>"
   ]
  },
  {
   "cell_type": "code",
   "execution_count": null,
   "metadata": {},
   "outputs": [],
   "source": []
  },
  {
   "cell_type": "markdown",
   "metadata": {},
   "source": [
    "<h3>f) Compute and plot the cross correlation result</h3>"
   ]
  },
  {
   "cell_type": "code",
   "execution_count": null,
   "metadata": {},
   "outputs": [],
   "source": []
  },
  {
   "cell_type": "markdown",
   "metadata": {},
   "source": []
  }
 ],
 "metadata": {
  "kernelspec": {
   "display_name": "Python 3",
   "language": "python",
   "name": "python3"
  },
  "language_info": {
   "codemirror_mode": {
    "name": "ipython",
    "version": 3
   },
   "file_extension": ".py",
   "mimetype": "text/x-python",
   "name": "python",
   "nbconvert_exporter": "python",
   "pygments_lexer": "ipython3",
   "version": "3.7.4"
  }
 },
 "nbformat": 4,
 "nbformat_minor": 4
}
