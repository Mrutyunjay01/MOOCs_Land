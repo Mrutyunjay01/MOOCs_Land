{
 "cells": [
  {
   "cell_type": "markdown",
   "metadata": {},
   "source": [
    "<h2>Write a code for distance measurement in radar using correlation.</h2>"
   ]
  },
  {
   "cell_type": "markdown",
   "metadata": {},
   "source": [
    "<h2>Import modules</h2>"
   ]
  },
  {
   "cell_type": "code",
   "execution_count": 1,
   "metadata": {},
   "outputs": [],
   "source": [
    "# import modules\n",
    "import numpy as np\n",
    "import matplotlib.pyplot as plt\n",
    "\n",
    "%matplotlib inline"
   ]
  },
  {
   "cell_type": "markdown",
   "metadata": {},
   "source": [
    "<h3>Helper function for plotting</h3>"
   ]
  },
  {
   "cell_type": "code",
   "execution_count": 2,
   "metadata": {},
   "outputs": [],
   "source": [
    "def plot_graph(sequence, val_range, x_label = None, y_label = None, graph_title = None):\n",
    "    \"\"\"\n",
    "    sequene: To plot\n",
    "    val_range: Min-max range of the sequence\n",
    "    x_label, y_label, graph_title: Labelling the plot\n",
    "    \"\"\"\n",
    "    plt.stem(val_range, sequence, use_line_collection= True)\n",
    "    plt.xlabel(x_label)\n",
    "    plt.ylabel(y_label)\n",
    "    plt.title(graph_title)\n",
    "    plt.show()"
   ]
  },
  {
   "cell_type": "markdown",
   "metadata": {},
   "source": [
    "<h3>Folding</h3>"
   ]
  },
  {
   "cell_type": "code",
   "execution_count": 97,
   "metadata": {},
   "outputs": [],
   "source": [
    "def folding(arr, n):\n",
    "    \n",
    "    # sanity check for length of timestamp and signal array must be same\n",
    "    assert len(arr) == len(n)\n",
    "    # print(n)\n",
    "    n = np.array(n)\n",
    "    #print(n)\n",
    "\n",
    "    index_0 = np.where(n == 0)[0][0]\n",
    "    \n",
    "    # initiate an empty array to store our updated array\n",
    "    new_arr = []\n",
    "    \n",
    "    # push all the positive timestamps to our new arr\n",
    "    # for example in our case\n",
    "    # [-1, 0, 1, 2] will be [-2, -1, 0, 1] and corresponding array values will be updated accordingly\n",
    "    \n",
    "    # push from 2 to 1 in reverse order\n",
    "    for i in range(len(n) - 1, index_0 - 1, -1):\n",
    "        new_arr.append(arr[i])\n",
    "    \n",
    "    # push from 0 to -1 in the same order\n",
    "    for j in arr[:index_0][::-1]:\n",
    "        new_arr.append(j)\n",
    "    \n",
    "    # our n is now [2, 1, 0, -1] hence return the negative sorted values i.e [-2, -1, 0, 1] which is our folded timestamp\n",
    "    return np.array(new_arr), sorted(-n)"
   ]
  },
  {
   "cell_type": "markdown",
   "metadata": {},
   "source": [
    "<h3>Padding</h3>"
   ]
  },
  {
   "cell_type": "code",
   "execution_count": 92,
   "metadata": {},
   "outputs": [],
   "source": [
    "def zero_pad(arr, left_pad=0, right_pad=0):\n",
    "    \n",
    "    # depending on the consequences, we may need left padding i.e adding zeros on the left\n",
    "    # or right padding, i.e adding zeros on the right\n",
    "    # hence we have takes both paddings in the same function\n",
    "    # this function will return an array as such\n",
    "    # [left_padded + original_arr + right_padded]\n",
    "    \n",
    "    padded_arr = np.append(np.zeros((left_pad, )),\n",
    "                          np.append(arr, np.zeros(right_pad, )))\n",
    "    \n",
    "    return padded_arr"
   ]
  },
  {
   "cell_type": "markdown",
   "metadata": {},
   "source": [
    "<h3> Calculate the Convolution </h3>"
   ]
  },
  {
   "cell_type": "code",
   "execution_count": 93,
   "metadata": {},
   "outputs": [],
   "source": [
    "def calculate_convolution(x, h):\n",
    "    \"\"\"\n",
    "    parameters: \n",
    "    x -> zero padded signal of len = max_len i.e l1 + l2 - 1\n",
    "    h -> our folded h(n) signal \n",
    "    \"\"\"\n",
    "    \n",
    "    # initiate the matrix as said above\n",
    "    ans = np.zeros((x.shape[0], x.shape[0]))\n",
    "    \n",
    "    # keep stacking the linear kernels which will be later passed on our padded signal\n",
    "    for i in range(ans.shape[0]):\n",
    "        if i < len(h):\n",
    "            ans[i, :i + 1] = h[-i - 1:]\n",
    "        else:\n",
    "            ans[i, i - len(h)+1: i+1] = h\n",
    "    # print to observe\n",
    "    # print('\\nStack of linear kernels: \\n\\n')\n",
    "    \n",
    "    # take the transpose\n",
    "    ans = np.transpose(ans)\n",
    "    \n",
    "    # return matrix multiplication of our padded signal and our kernel matrix, this is our desired result\n",
    "    return np.matmul(x, ans)"
   ]
  },
  {
   "cell_type": "markdown",
   "metadata": {},
   "source": [
    "<h3>Calculate Correlation</h3>"
   ]
  },
  {
   "cell_type": "code",
   "execution_count": 99,
   "metadata": {},
   "outputs": [],
   "source": [
    "def Convolution_main(x1, n1, x2, n2):\n",
    "    \"\"\"\n",
    "    Calculates the convolution of x1 and x2 where\n",
    "    x1 -> original signal\n",
    "    x2 -> filter/kernel\n",
    "    n1 -> timestamps of x1\n",
    "    n2 -> timestamps of x2\n",
    "    \"\"\"\n",
    "    # show signal x1\n",
    "    print(\"Signal x is: \")\n",
    "    # print(\"\\nTime stamp of X is: \")\n",
    "    plot_graph(x1, n1, y_label='$x1$', x_label='timestamp', graph_title='Signal $x$')\n",
    "\n",
    "    # show signal x2\n",
    "    print(\"\\nSignal H is: \")\n",
    "    # print(\"\\nTimestamp of H is: \")\n",
    "    plot_graph(x2, n2, y_label='$h(n)$', x_label='timestamp', graph_title='Signal $h$')\n",
    "\n",
    "\n",
    "    # apply folding on second signal\n",
    "    folded_H, neg_timestamp = folding(x2, n2)\n",
    "    print(\"\\nFolded H is: \")\n",
    "    # print(\"\\nTimestamp of H is: \")\n",
    "    plot_graph(folded_H, neg_timestamp, x_label='timestamp', y_label='$h(-n)$', graph_title='Folded $h(n)$')\n",
    "\n",
    "    # create the resutant timestamp\n",
    "    # take the min of min of timestamps\n",
    "    left_most_timestamp = min(min(n1), min(neg_timestamp))\n",
    "\n",
    "    # calculate the maximum sequence length\n",
    "    max_len_result = len(n1) + len(neg_timestamp) - 1\n",
    "    \n",
    "    # initialize the resultant convolution array with zeroes\n",
    "    result_time_stamp = np.arange(left_most_timestamp, left_most_timestamp + max_len_result, 1)\n",
    "    # print(\"\\nResultant timestamp would be: \")\n",
    "\n",
    "    # pad our Signal X upto the len of max_len\n",
    "    # 3 is obtained from result_time_stamp - len(x1)\n",
    "    X = zero_pad(x1, right_pad=len(result_time_stamp) - len(x1))\n",
    "\n",
    "    # Here is our result\n",
    "    result = calculate_convolution(X, folded_H)\n",
    "    print('\\nConvolution of Signal x1 and x2 is: ')\n",
    "\n",
    "    plot_graph(result, result_time_stamp, x_label='timestamp', y_label='$\\sum x(k) * h(n-k)$', graph_title='Convoution Result')\n",
    "    \n",
    "    return result"
   ]
  },
  {
   "cell_type": "code",
   "execution_count": 102,
   "metadata": {},
   "outputs": [],
   "source": [
    "def correlation_main(x, n1, h, n2):\n",
    "    \"\"\"\n",
    "    Calculates the corelation of x and h where\n",
    "        x -> original signal\n",
    "        h -> filter/kernel\n",
    "        n1 -> timestamps of x\n",
    "        n2 -> timestamps of h\n",
    "    \n",
    "    steps to follow:\n",
    "        1. flip our signal H(n) given to get H(-n)\n",
    "        2. Call our main() function to calculate the convolution of the original signal and the flipped signal\n",
    "    \"\"\"\n",
    "    \n",
    "    ###################\n",
    "    # Flip the signal H(n) to get H(-n)\n",
    "    flipped_h, flipped_n = folding(h, n2)\n",
    "    \n",
    "    # call our convolution function that we defined above\n",
    "    # pass the arguments, x as main signal and flipped_h as kernel\n",
    "    result = Convolution_main(x, n1, flipped_h, flipped_n)\n",
    "    \n",
    "    return result\n",
    "    pass"
   ]
  },
  {
   "cell_type": "markdown",
   "metadata": {},
   "source": [
    "<h3>(a) Consider 13-point Barker sequence.</h3>\n",
    "\n",
    "    X(n) = {+1, +1, +1, +1, +1,-1 -1, +1, +1 -1, +1 -1, +1}"
   ]
  },
  {
   "cell_type": "markdown",
   "metadata": {},
   "source": [
    "<h5>Consider a timestamp of length 50</h5>"
   ]
  },
  {
   "cell_type": "code",
   "execution_count": 112,
   "metadata": {},
   "outputs": [
    {
     "name": "stdout",
     "output_type": "stream",
     "text": [
      "[ 0  1  2  3  4  5  6  7  8  9 10 11 12 13 14 15 16 17 18 19 20 21 22 23\n",
      " 24 25 26 27 28 29 30 31 32 33 34 35 36 37 38 39 40 41 42 43 44 45 46 47\n",
      " 48 49 50 51 52 53 54]\n"
     ]
    }
   ],
   "source": [
    "# taking the timestamp from -30 to 30 for all\n",
    "t = np.arange(0, 55, 1)\n",
    "print(t)"
   ]
  },
  {
   "cell_type": "code",
   "execution_count": 116,
   "metadata": {},
   "outputs": [
    {
     "name": "stdout",
     "output_type": "stream",
     "text": [
      "Our Original Signal is:  [ 1  1  1  1  1 -1 -1  1  1 -1  1 -1  1]\n",
      "Our padded signal with same length as timestamp: \n",
      "\n"
     ]
    },
    {
     "data": {
      "image/png": "[encoded data removed]",
      "text/plain": [
       "<Figure size 432x288 with 1 Axes>"
      ]
     },
     "metadata": {
      "needs_background": "light"
     },
     "output_type": "display_data"
    }
   ],
   "source": [
    "# consider a 13-point Barker sequence\n",
    "X_n = np.array([1, 1, 1, 1, 1, -1, -1, 1, 1, -1, 1, -1, 1])\n",
    "print('Our Original Signal is: ', X_n)\n",
    "\n",
    "# pad the X(n) to have same length as our time steps\n",
    "X_n = zero_pad(X_n, right_pad=42)\n",
    "print('Our padded signal with same length as timestamp: \\n')\n",
    "\n",
    "plot_graph(X_n, t, x_label='Timestamp', y_label='$X(n)$', graph_title='Barker Sequence')"
   ]
  },
  {
   "cell_type": "markdown",
   "metadata": {},
   "source": [
    "<h3>b) Take V (n) be a Gaussian random sequence with zero mean and variance.</h3>"
   ]
  },
  {
   "cell_type": "markdown",
   "metadata": {},
   "source": [
    "\n",
    "\\begin{equation}\n",
    "    \\mu = 0, \\sigma = 0.01\n",
    "\\end{equation}"
   ]
  },
  {
   "cell_type": "code",
   "execution_count": 130,
   "metadata": {},
   "outputs": [
    {
     "name": "stdout",
     "output_type": "stream",
     "text": [
      "Our random Gaussian Noise is: \n",
      " [-0.00600512 -0.00887083  0.00685207 -0.00601583 -0.00374281 -0.0145305\n",
      "  0.0056234   0.01392915 -0.01005483 -0.01264479  0.00025667  0.01625031\n",
      "  0.00869133]\n",
      "Our padded signal with same length as timestamp: \n",
      "\n"
     ]
    },
    {
     "data": {
      "image/png": "[encoded data removed]",
      "text/plain": [
       "<Figure size 432x288 with 1 Axes>"
      ]
     },
     "metadata": {
      "needs_background": "light"
     },
     "output_type": "display_data"
    }
   ],
   "source": [
    "# Generate a gaussian random sequence with 0 maen and 0.01 std var\n",
    "V_n = np.random.normal(0, 0.01, 13)\n",
    "print('Our random Gaussian Noise is: \\n', V_n)\n",
    "\n",
    "# pad the X(n) to have same length as our time steps\n",
    "V_n = zero_pad(V_n, right_pad=42)\n",
    "print('Our padded signal with same length as timestamp: \\n')\n",
    "      \n",
    "plot_graph(V_n, t, x_label='Timestamp', y_label='$V(n)$', graph_title='Gaussian Noise')"
   ]
  },
  {
   "cell_type": "markdown",
   "metadata": {},
   "source": [
    "<h3>c) Generate a sequence Y(n), Where</h3>\n",
    "<br>\n",
    "\\begin{equation}\n",
    "    Y(n) = a X(n-D) + V(n)\n",
    "\\end{equation}\n",
    "\n",
    "- Take Delay D = $20$, a = $0.9$"
   ]
  },
  {
   "cell_type": "code",
   "execution_count": 51,
   "metadata": {},
   "outputs": [],
   "source": [
    "def shift_d(x, d):\n",
    "    \n",
    "    # as we are shiting it forward with D timesteps\n",
    "    new_x = np.zeros((x.shape))\n",
    "    \n",
    "    new_x[d:] = x[:-d]\n",
    "    new_x[:d] = np.zeros((d))\n",
    "    \n",
    "    return new_x"
   ]
  },
  {
   "cell_type": "code",
   "execution_count": 95,
   "metadata": {},
   "outputs": [],
   "source": [
    "def gen_Yn(x, v, a, d):\n",
    "    \n",
    "    X_nd = shift_d(x, d)\n",
    "    y = (a * X_nd) + v\n",
    "    \n",
    "    return y"
   ]
  },
  {
   "cell_type": "code",
   "execution_count": 131,
   "metadata": {},
   "outputs": [],
   "source": [
    "# our generated sequence Y_n\n",
    "Y_n = gen_Yn(X_n, V_n, a=0.9, d=20)"
   ]
  },
  {
   "cell_type": "markdown",
   "metadata": {},
   "source": [
    "<h3>d) Plot the Signal</h3>"
   ]
  },
  {
   "cell_type": "code",
   "execution_count": 132,
   "metadata": {},
   "outputs": [
    {
     "data": {
      "image/png": "[encoded data removed]",
      "text/plain": [
       "<Figure size 432x288 with 1 Axes>"
      ]
     },
     "metadata": {
      "needs_background": "light"
     },
     "output_type": "display_data"
    },
    {
     "data": {
      "image/png": "[encoded data removed]",
      "text/plain": [
       "<Figure size 432x288 with 1 Axes>"
      ]
     },
     "metadata": {
      "needs_background": "light"
     },
     "output_type": "display_data"
    }
   ],
   "source": [
    "plot_graph(X_n, t, x_label='Timestamp', y_label='$X(n)$', graph_title='Barker Sequence')\n",
    "plot_graph(Y_n, t, x_label='Timestamp', y_label='$Y(n)$', graph_title='Generated Signal')"
   ]
  },
  {
   "cell_type": "markdown",
   "metadata": {},
   "source": [
    "<h3>f) Compute and plot the cross correlation result</h3>"
   ]
  },
  {
   "cell_type": "code",
   "execution_count": 124,
   "metadata": {},
   "outputs": [
    {
     "name": "stdout",
     "output_type": "stream",
     "text": [
      "Signal x is: \n"
     ]
    },
    {
     "data": {
      "image/png": "[encoded data removed]",
      "text/plain": [
       "<Figure size 432x288 with 1 Axes>"
      ]
     },
     "metadata": {
      "needs_background": "light"
     },
     "output_type": "display_data"
    },
    {
     "name": "stdout",
     "output_type": "stream",
     "text": [
      "\n",
      "Signal H is: \n"
     ]
    },
    {
     "data": {
      "image/png": "[encoded data removed]",
      "text/plain": [
       "<Figure size 432x288 with 1 Axes>"
      ]
     },
     "metadata": {
      "needs_background": "light"
     },
     "output_type": "display_data"
    },
    {
     "name": "stdout",
     "output_type": "stream",
     "text": [
      "\n",
      "Folded H is: \n"
     ]
    },
    {
     "data": {
      "image/png": "[encoded data removed]",
      "text/plain": [
       "<Figure size 432x288 with 1 Axes>"
      ]
     },
     "metadata": {
      "needs_background": "light"
     },
     "output_type": "display_data"
    },
    {
     "name": "stdout",
     "output_type": "stream",
     "text": [
      "\n",
      "Convolution of Signal x1 and x2 is: \n"
     ]
    },
    {
     "data": {
      "image/png": "[encoded data removed]",
      "text/plain": [
       "<Figure size 432x288 with 1 Axes>"
      ]
     },
     "metadata": {
      "needs_background": "light"
     },
     "output_type": "display_data"
    }
   ],
   "source": [
    "# call the correlation function we have defined above\n",
    "correlation_result = correlation_main(X_n, t, gen_Yn(X_n, V_n, a=0.9, d=20), t)"
   ]
  },
  {
   "cell_type": "markdown",
   "metadata": {},
   "source": [
    "<h3>Distance Calculation</h3>"
   ]
  },
  {
   "cell_type": "markdown",
   "metadata": {},
   "source": [
    "Using cross-correlation, we can calculate delay where the spike occurs, i.e the time step where cross-correlation is maximum. We can visualize the same as, this is the time stam where both of the signals are overlapping completely. **Kindly correct me if I am wrong.**"
   ]
  },
  {
   "cell_type": "code",
   "execution_count": 126,
   "metadata": {},
   "outputs": [
    {
     "name": "stdout",
     "output_type": "stream",
     "text": [
      "Delay is:  33\n"
     ]
    }
   ],
   "source": [
    "delay = correlation_result.argmax() - 1 # subtracted 1 because of 0-based indexing\n",
    "print('Delay is: ', delay)"
   ]
  },
  {
   "cell_type": "code",
   "execution_count": null,
   "metadata": {},
   "outputs": [],
   "source": []
  },
  {
   "cell_type": "code",
   "execution_count": null,
   "metadata": {},
   "outputs": [],
   "source": []
  }
 ],
 "metadata": {
  "kernelspec": {
   "display_name": "Python 3",
   "language": "python",
   "name": "python3"
  },
  "language_info": {
   "codemirror_mode": {
    "name": "ipython",
    "version": 3
   },
   "file_extension": ".py",
   "mimetype": "text/x-python",
   "name": "python",
   "nbconvert_exporter": "python",
   "pygments_lexer": "ipython3",
   "version": "3.7.4"
  }
 },
 "nbformat": 4,
 "nbformat_minor": 4
}
