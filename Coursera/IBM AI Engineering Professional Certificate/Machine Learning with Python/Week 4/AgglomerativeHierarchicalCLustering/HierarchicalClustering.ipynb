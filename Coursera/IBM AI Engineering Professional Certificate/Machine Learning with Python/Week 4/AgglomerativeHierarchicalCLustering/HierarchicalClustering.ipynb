{
 "cells": [
  {
   "cell_type": "code",
   "execution_count": 1,
   "metadata": {},
   "outputs": [
    {
     "name": "stderr",
     "output_type": "stream",
     "text": [
      "C:\\ProgramData\\Anaconda3\\lib\\importlib\\_bootstrap.py:219: RuntimeWarning: numpy.ufunc size changed, may indicate binary incompatibility. Expected 192 from C header, got 216 from PyObject\n",
      "  return f(*args, **kwds)\n"
     ]
    }
   ],
   "source": [
    "import numpy as np\n",
    "import pandas as pd\n",
    "from scipy import ndimage\n",
    "from scipy.cluster import hierarchy\n",
    "from scipy.spatial import distance_matrix\n",
    "from matplotlib import pyplot as plt\n",
    "from sklearn.cluster import AgglomerativeClustering\n",
    "from sklearn.datasets.samples_generator import make_blobs\n",
    "\n",
    "%matplotlib inline"
   ]
  },
  {
   "cell_type": "markdown",
   "metadata": {},
   "source": [
    "<hr>\n",
    "<h3 id=\"generating_data\">Generating Random Data</h3>\n",
    "We will be generating a set of data using the <b>make_blobs</b> class. <br> <br>\n",
    "Input these parameters into make_blobs:\n",
    "<ul>\n",
    "    <li> <b>n_samples</b>: The total number of points equally divided among clusters. </li>\n",
    "    <ul> <li> Choose a number from 10-1500 </li> </ul>\n",
    "    <li> <b>centers</b>: The number of centers to generate, or the fixed center locations. </li>\n",
    "    <ul> <li> Choose arrays of x,y coordinates for generating the centers. Have 1-10 centers (ex. centers=[[1,1], [2,5]]) </li> </ul>\n",
    "    <li> <b>cluster_std</b>: The standard deviation of the clusters. The larger the number, the further apart the clusters</li>\n",
    "    <ul> <li> Choose a number between 0.5-1.5 </li> </ul>\n",
    "</ul> <br>\n",
    "Save the result to <b>X1</b> and <b>y1</b>."
   ]
  },
  {
   "cell_type": "code",
   "execution_count": 2,
   "metadata": {},
   "outputs": [
    {
     "data": {
      "text/plain": [
       "<matplotlib.collections.PathCollection at 0x21ed5800b48>"
      ]
     },
     "execution_count": 2,
     "metadata": {},
     "output_type": "execute_result"
    },
    {
     "data": {
      "image/png": "[encoded data removed]",
      "text/plain": [
       "<Figure size 432x288 with 1 Axes>"
      ]
     },
     "metadata": {
      "needs_background": "light"
     },
     "output_type": "display_data"
    }
   ],
   "source": [
    "X1, y1 = make_blobs(n_samples=50,\n",
    "                   centers=[[4, 4], [-2, -1], [1, 1], [10, 4]],\n",
    "                   cluster_std=0.9)\n",
    "\n",
    "# plot the scatter plot\n",
    "plt.scatter(X1[:, 0], X1[:, 1], marker='o')"
   ]
  },
  {
   "cell_type": "code",
   "execution_count": 4,
   "metadata": {},
   "outputs": [
    {
     "data": {
      "text/plain": [
       "array([[ 2.50520782,  3.4080537 ],\n",
       "       [ 1.36623748, -0.10457451],\n",
       "       [ 2.48238333,  0.62196363],\n",
       "       [ 3.42927531,  3.44879972],\n",
       "       [-1.42606856, -2.26118028],\n",
       "       [ 9.90885892,  4.0759571 ],\n",
       "       [-4.77725824, -0.89714438],\n",
       "       [-2.58020147, -2.34255986],\n",
       "       [-0.09096781,  0.45046226],\n",
       "       [10.32081771,  2.58511011],\n",
       "       [ 0.43192345,  0.83475864],\n",
       "       [ 4.82256316,  3.44789257],\n",
       "       [10.01201581,  5.46730297],\n",
       "       [ 9.5339017 ,  2.97810521],\n",
       "       [ 3.12447787,  3.02073989],\n",
       "       [ 1.29212938, -0.38997085],\n",
       "       [-0.79418541, -0.21453235],\n",
       "       [-2.4012493 , -0.6181725 ],\n",
       "       [ 0.38263083,  0.58901347],\n",
       "       [ 9.86812819,  3.98578427],\n",
       "       [ 5.51684297,  4.06212083],\n",
       "       [ 2.81590589,  5.0369867 ],\n",
       "       [ 3.20809414,  2.94830214],\n",
       "       [ 4.47041857,  5.39357268],\n",
       "       [ 1.71518508, -0.08620932],\n",
       "       [-3.55147017, -1.52822723],\n",
       "       [ 9.5978472 ,  4.08209921],\n",
       "       [11.11785253,  4.54806701],\n",
       "       [ 3.29876701,  4.62079204],\n",
       "       [10.81071983,  3.12528085],\n",
       "       [ 2.86599448,  3.24121371],\n",
       "       [ 3.74204379,  3.54626588],\n",
       "       [ 9.56797966,  5.03336703],\n",
       "       [ 0.47658599,  1.52786502],\n",
       "       [-2.0847607 , -0.67056802],\n",
       "       [ 9.75402104,  4.55821489],\n",
       "       [ 0.43740969,  1.0681427 ],\n",
       "       [-1.42234105, -1.24611712],\n",
       "       [-1.81898429, -0.18300041],\n",
       "       [ 3.46979979,  4.97012181],\n",
       "       [ 1.71561129,  0.90538113],\n",
       "       [-1.34125004, -0.65879237],\n",
       "       [ 2.32662104,  3.65389659],\n",
       "       [-1.50909765, -1.35777726],\n",
       "       [ 0.62598454,  2.53603291],\n",
       "       [ 8.5780036 ,  5.32529534],\n",
       "       [-2.27647249, -1.75917556],\n",
       "       [ 1.67889537,  1.44665249],\n",
       "       [ 9.42783345,  5.05447325],\n",
       "       [-2.02379839, -1.13560558]])"
      ]
     },
     "execution_count": 4,
     "metadata": {},
     "output_type": "execute_result"
    }
   ],
   "source": [
    "X1"
   ]
  },
  {
   "cell_type": "code",
   "execution_count": 5,
   "metadata": {},
   "outputs": [
    {
     "data": {
      "text/plain": [
       "array([0, 2, 2, 0, 1, 3, 1, 1, 2, 3, 2, 0, 3, 3, 0, 2, 1, 1, 2, 3, 0, 0,\n",
       "       0, 0, 2, 1, 3, 3, 0, 3, 0, 0, 3, 2, 1, 3, 2, 1, 1, 0, 2, 1, 0, 1,\n",
       "       2, 3, 1, 2, 3, 1])"
      ]
     },
     "execution_count": 5,
     "metadata": {},
     "output_type": "execute_result"
    }
   ],
   "source": [
    "y1"
   ]
  },
  {
   "cell_type": "markdown",
   "metadata": {},
   "source": [
    "<hr>\n",
    "<h3 id=\"agglomerative_clustering\">Agglomerative Clustering</h3>\n",
    "We will start by clustering the random data points we just created."
   ]
  },
  {
   "cell_type": "markdown",
   "metadata": {},
   "source": [
    "The <b> Agglomerative Clustering </b> class will require two inputs:\n",
    "<ul>\n",
    "    <li> <b>n_clusters</b>: The number of clusters to form as well as the number of centroids to generate. </li>\n",
    "    <ul> <li> Value will be: 4 </li> </ul>\n",
    "    <li> <b>linkage</b>: Which linkage criterion to use. The linkage criterion determines which distance to use between sets of observation. The algorithm will merge the pairs of cluster that minimize this criterion. </li>\n",
    "    <ul> \n",
    "        <li> Value will be: 'complete' </li> \n",
    "        <li> <b>Note</b>: It is recommended you try everything with 'average' as well </li>\n",
    "    </ul>\n",
    "</ul> <br>\n",
    "Save the result to a variable called <b> agglom </b>"
   ]
  },
  {
   "cell_type": "code",
   "execution_count": 6,
   "metadata": {},
   "outputs": [
    {
     "data": {
      "text/plain": [
       "AgglomerativeClustering(affinity='euclidean', compute_full_tree='auto',\n",
       "                        connectivity=None, distance_threshold=None,\n",
       "                        linkage='average', memory=None, n_clusters=4,\n",
       "                        pooling_func='deprecated')"
      ]
     },
     "execution_count": 6,
     "metadata": {},
     "output_type": "execute_result"
    }
   ],
   "source": [
    "agglom = AgglomerativeClustering(n_clusters=4, linkage='average')\n",
    "agglom"
   ]
  },
  {
   "cell_type": "code",
   "execution_count": 7,
   "metadata": {},
   "outputs": [
    {
     "data": {
      "text/plain": [
       "AgglomerativeClustering(affinity='euclidean', compute_full_tree='auto',\n",
       "                        connectivity=None, distance_threshold=None,\n",
       "                        linkage='average', memory=None, n_clusters=4,\n",
       "                        pooling_func='deprecated')"
      ]
     },
     "execution_count": 7,
     "metadata": {},
     "output_type": "execute_result"
    }
   ],
   "source": [
    "# fit the dataset\n",
    "agglom.fit(X1, y1)"
   ]
  },
  {
   "cell_type": "code",
   "execution_count": 12,
   "metadata": {},
   "outputs": [
    {
     "data": {
      "text/plain": [
       "<matplotlib.collections.PathCollection at 0x21ed7d4f708>"
      ]
     },
     "execution_count": 12,
     "metadata": {},
     "output_type": "execute_result"
    },
    {
     "data": {
      "image/png": "[encoded data removed]",
      "text/plain": [
       "<Figure size 576x576 with 1 Axes>"
      ]
     },
     "metadata": {},
     "output_type": "display_data"
    }
   ],
   "source": [
    "# plot our result\n",
    "plt.figure(figsize=(8, 8))\n",
    "\n",
    "# scale our data points\n",
    "X_min, X_max = np.min(X1, axis=0), np.max(X1, axis=0)\n",
    "\n",
    "# get the average distace for X1\n",
    "X1 = ( X1 - X_min) / (X_max - X_min)\n",
    "\n",
    "for i in range(X1.shape[0]):\n",
    "    plt.text(X1[i, 0], X1[i, 1], str(y1[i]),\n",
    "            color=plt.cm.nipy_spectral(agglom.labels_[i]/10.0),\n",
    "            fontdict={'weight':'bold', 'size':9})\n",
    "    \n",
    "plt.xticks([])\n",
    "plt.yticks([])\n",
    "plt.scatter(X1[:, 0], X1[:, 1], marker='.')"
   ]
  },
  {
   "cell_type": "markdown",
   "metadata": {},
   "source": [
    "\n",
    "<h3 id=\"dendrogram\">Dendrogram Associated for the Agglomerative Hierarchical Clustering</h3>\n",
    "Remember that a <b>distance matrix</b> contains the <b> distance from each point to every other point of a dataset </b>. <br>\n",
    "Use the function <b> distance_matrix, </b> which requires <b>two inputs</b>. Use the Feature Matrix, <b> X2 </b> as both inputs and save the distance matrix to a variable called <b> dist_matrix </b> <br> <br>\n",
    "Remember that the distance values are symmetric, with a diagonal of 0's. This is one way of making sure your matrix is correct. <br> (print out dist_matrix to make sure it's correct)"
   ]
  },
  {
   "cell_type": "code",
   "execution_count": 13,
   "metadata": {},
   "outputs": [
    {
     "name": "stdout",
     "output_type": "stream",
     "text": [
      "[[0.         0.4554404  0.35674284 ... 0.25646802 0.48385847 0.64781098]\n",
      " [0.4554404  0.         0.11655485 ... 0.19959571 0.83282257 0.25082814]\n",
      " [0.35674284 0.11655485 0.         ... 0.11707142 0.71627228 0.36195924]\n",
      " ...\n",
      " [0.25646802 0.19959571 0.11707142 ... 0.         0.67161366 0.40445867]\n",
      " [0.48385847 0.83282257 0.71627228 ... 0.67161366 0.         1.07110184]\n",
      " [0.64781098 0.25082814 0.36195924 ... 0.40445867 1.07110184 0.        ]]\n"
     ]
    }
   ],
   "source": [
    "dist_Mat = distance_matrix(X1, X1)\n",
    "print(dist_Mat)"
   ]
  },
  {
   "cell_type": "markdown",
   "metadata": {},
   "source": [
    "Using the linkage calss from hierarchy, pass in the parameters\"\n",
    "- the distance matrix\n",
    "- 'complete' for the complete linkage"
   ]
  },
  {
   "cell_type": "code",
   "execution_count": 14,
   "metadata": {},
   "outputs": [
    {
     "name": "stderr",
     "output_type": "stream",
     "text": [
      "C:\\ProgramData\\Anaconda3\\lib\\site-packages\\ipykernel_launcher.py:1: ClusterWarning: scipy.cluster: The symmetric non-negative hollow observation matrix looks suspiciously like an uncondensed distance matrix\n",
      "  \"\"\"Entry point for launching an IPython kernel.\n"
     ]
    },
    {
     "data": {
      "text/plain": [
       "array([[3.20000000e+01, 4.80000000e+01, 3.96579373e-02, 2.00000000e+00],\n",
       "       [1.40000000e+01, 2.20000000e+01, 4.32731687e-02, 2.00000000e+00],\n",
       "       [5.00000000e+00, 1.90000000e+01, 6.02903612e-02, 2.00000000e+00],\n",
       "       [1.70000000e+01, 3.40000000e+01, 7.87770376e-02, 2.00000000e+00],\n",
       "       [3.70000000e+01, 4.30000000e+01, 9.93409991e-02, 2.00000000e+00],\n",
       "       [1.00000000e+00, 2.40000000e+01, 1.05905308e-01, 2.00000000e+00],\n",
       "       [2.60000000e+01, 5.20000000e+01, 1.06109845e-01, 3.00000000e+00],\n",
       "       [0.00000000e+00, 3.00000000e+01, 1.15646763e-01, 2.00000000e+00],\n",
       "       [4.90000000e+01, 5.40000000e+01, 1.24740378e-01, 3.00000000e+00],\n",
       "       [3.00000000e+00, 3.10000000e+01, 1.42157950e-01, 2.00000000e+00],\n",
       "       [2.10000000e+01, 3.90000000e+01, 1.69319484e-01, 2.00000000e+00],\n",
       "       [1.00000000e+01, 3.60000000e+01, 1.70146528e-01, 2.00000000e+00],\n",
       "       [2.00000000e+00, 4.00000000e+01, 2.00620077e-01, 2.00000000e+00],\n",
       "       [8.00000000e+00, 1.80000000e+01, 2.13451298e-01, 2.00000000e+00],\n",
       "       [3.80000000e+01, 4.10000000e+01, 2.46131610e-01, 2.00000000e+00],\n",
       "       [4.20000000e+01, 5.70000000e+01, 2.56570221e-01, 3.00000000e+00],\n",
       "       [4.50000000e+01, 5.00000000e+01, 2.62696370e-01, 3.00000000e+00],\n",
       "       [2.50000000e+01, 4.60000000e+01, 2.67809323e-01, 2.00000000e+00],\n",
       "       [3.30000000e+01, 4.70000000e+01, 2.90253326e-01, 2.00000000e+00],\n",
       "       [1.50000000e+01, 5.50000000e+01, 2.90384770e-01, 3.00000000e+00],\n",
       "       [2.80000000e+01, 6.00000000e+01, 3.04028051e-01, 3.00000000e+00],\n",
       "       [9.00000000e+00, 1.30000000e+01, 3.08297869e-01, 2.00000000e+00],\n",
       "       [4.00000000e+00, 7.00000000e+00, 3.11589285e-01, 2.00000000e+00],\n",
       "       [3.50000000e+01, 5.60000000e+01, 3.17714508e-01, 4.00000000e+00],\n",
       "       [5.30000000e+01, 5.80000000e+01, 3.90565169e-01, 5.00000000e+00],\n",
       "       [1.20000000e+01, 2.70000000e+01, 3.95446304e-01, 2.00000000e+00],\n",
       "       [5.10000000e+01, 6.50000000e+01, 4.03844123e-01, 5.00000000e+00],\n",
       "       [1.10000000e+01, 5.90000000e+01, 4.33262705e-01, 3.00000000e+00],\n",
       "       [1.60000000e+01, 6.40000000e+01, 4.38752358e-01, 3.00000000e+00],\n",
       "       [6.20000000e+01, 6.80000000e+01, 4.66983926e-01, 4.00000000e+00],\n",
       "       [2.90000000e+01, 7.10000000e+01, 4.84847832e-01, 3.00000000e+00],\n",
       "       [6.70000000e+01, 7.20000000e+01, 5.00314229e-01, 4.00000000e+00],\n",
       "       [6.10000000e+01, 6.30000000e+01, 5.40054907e-01, 4.00000000e+00],\n",
       "       [6.00000000e+00, 8.10000000e+01, 5.56395681e-01, 5.00000000e+00],\n",
       "       [6.60000000e+01, 7.50000000e+01, 6.15477729e-01, 5.00000000e+00],\n",
       "       [2.30000000e+01, 7.00000000e+01, 7.20776557e-01, 4.00000000e+00],\n",
       "       [7.60000000e+01, 7.70000000e+01, 7.23546814e-01, 8.00000000e+00],\n",
       "       [2.00000000e+01, 8.50000000e+01, 7.98981319e-01, 5.00000000e+00],\n",
       "       [6.90000000e+01, 8.20000000e+01, 8.58967560e-01, 7.00000000e+00],\n",
       "       [7.30000000e+01, 8.40000000e+01, 8.95174288e-01, 9.00000000e+00],\n",
       "       [7.40000000e+01, 7.80000000e+01, 9.42184444e-01, 8.00000000e+00],\n",
       "       [4.40000000e+01, 7.90000000e+01, 1.01124643e+00, 5.00000000e+00],\n",
       "       [8.00000000e+01, 8.90000000e+01, 1.37774085e+00, 1.20000000e+01],\n",
       "       [8.80000000e+01, 9.10000000e+01, 1.75111145e+00, 1.20000000e+01],\n",
       "       [8.60000000e+01, 8.70000000e+01, 1.78277994e+00, 1.30000000e+01],\n",
       "       [8.30000000e+01, 9.00000000e+01, 1.79957590e+00, 1.30000000e+01],\n",
       "       [9.20000000e+01, 9.40000000e+01, 3.10172806e+00, 2.50000000e+01],\n",
       "       [9.30000000e+01, 9.50000000e+01, 3.36500557e+00, 2.50000000e+01],\n",
       "       [9.60000000e+01, 9.70000000e+01, 5.41006023e+00, 5.00000000e+01]])"
      ]
     },
     "execution_count": 14,
     "metadata": {},
     "output_type": "execute_result"
    }
   ],
   "source": [
    "Z = hierarchy.linkage(dist_Mat, 'complete')\n",
    "Z"
   ]
  },
  {
   "cell_type": "code",
   "execution_count": 16,
   "metadata": {},
   "outputs": [
    {
     "data": {
      "text/plain": [
       "(49, 4)"
      ]
     },
     "execution_count": 16,
     "metadata": {},
     "output_type": "execute_result"
    }
   ],
   "source": [
    "type(Z)\n",
    "Z.shape"
   ]
  },
  {
   "cell_type": "markdown",
   "metadata": {},
   "source": [
    "A Hierarchical clustering is typically visualized as a dendrogram as shown in the following cell. Each merge is represented by a horizontal line. The y-coordinate of the horizontal line is the similarity of the two clusters that were merged, where cities are viewed as singleton clusters. \n",
    "By moving up from the bottom layer to the top node, a dendrogram allows us to reconstruct the history of merges that resulted in the depicted clustering. \n",
    "\n",
    "Next, we will save the dendrogram to a variable called <b>dendro</b>. In doing this, the dendrogram will also be displayed.\n",
    "Using the <b> dendrogram </b> class from hierarchy, pass in the parameter:\n",
    "<ul> <li> Z </li> </ul>"
   ]
  },
  {
   "cell_type": "code",
   "execution_count": 17,
   "metadata": {},
   "outputs": [
    {
     "data": {
      "image/png": "[encoded data removed]",
      "text/plain": [
       "<Figure size 432x288 with 1 Axes>"
      ]
     },
     "metadata": {
      "needs_background": "light"
     },
     "output_type": "display_data"
    }
   ],
   "source": [
    "dendro = hierarchy.dendrogram(Z)"
   ]
  },
  {
   "cell_type": "code",
   "execution_count": 19,
   "metadata": {},
   "outputs": [
    {
     "name": "stderr",
     "output_type": "stream",
     "text": [
      "C:\\ProgramData\\Anaconda3\\lib\\site-packages\\ipykernel_launcher.py:1: ClusterWarning: scipy.cluster: The symmetric non-negative hollow observation matrix looks suspiciously like an uncondensed distance matrix\n",
      "  \"\"\"Entry point for launching an IPython kernel.\n"
     ]
    },
    {
     "data": {
      "image/png": "[encoded data removed]",
      "text/plain": [
       "<Figure size 432x288 with 1 Axes>"
      ]
     },
     "metadata": {
      "needs_background": "light"
     },
     "output_type": "display_data"
    }
   ],
   "source": [
    "Z_avg = hierarchy.linkage(dist_Mat, 'average')\n",
    "dendro_avg = hierarchy.dendrogram(Z_avg)"
   ]
  },
  {
   "cell_type": "code",
   "execution_count": null,
   "metadata": {},
   "outputs": [],
   "source": []
  }
 ],
 "metadata": {
  "kernelspec": {
   "display_name": "Python 3",
   "language": "python",
   "name": "python3"
  },
  "language_info": {
   "codemirror_mode": {
    "name": "ipython",
    "version": 3
   },
   "file_extension": ".py",
   "mimetype": "text/x-python",
   "name": "python",
   "nbconvert_exporter": "python",
   "pygments_lexer": "ipython3",
   "version": "3.7.4"
  }
 },
 "nbformat": 4,
 "nbformat_minor": 2
}
