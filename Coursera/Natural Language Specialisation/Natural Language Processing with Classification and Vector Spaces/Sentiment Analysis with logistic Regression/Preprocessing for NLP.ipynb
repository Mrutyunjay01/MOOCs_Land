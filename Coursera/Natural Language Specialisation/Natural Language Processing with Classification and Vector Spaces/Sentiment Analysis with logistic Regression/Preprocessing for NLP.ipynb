{
 "cells": [
  {
   "cell_type": "markdown",
   "metadata": {},
   "source": [
    "In this notebook, we are going to explore how to preprocess tweets for sentiment Analysis. Moreover, we will try to discover NLTK package to perform a a preprocessing pipeline for Twitter datasets.\n",
    "\n",
    "**NLTK** is an opensource library for Natural Language processing. It has dedicated modules for collecting, handling and processing twitter data."
   ]
  },
  {
   "cell_type": "code",
   "execution_count": 10,
   "metadata": {},
   "outputs": [],
   "source": [
    "import nltk                              # python library for NLP\n",
    "from nltk.corpus import twitter_samples  # sample twitter dataset from NLTK\n",
    "import matplotlib.pyplot as plt          # visualisation library\n",
    "import random \n",
    "\n",
    "%matplotlib inline\n",
    "# for pseudo random number generator"
   ]
  },
  {
   "cell_type": "markdown",
   "metadata": {},
   "source": [
    "# About the Twitter Dataset\n",
    "\n",
    "The sample dataset from NLTk is separated into positive and negative tweets. It contains 5000 positive and 5000 Negative tweets exactly. The exact match between the classes is not a coincidence, it is created intentionally to have a balanced dataset. However, this does not reflect the real twitter data stream. Balanced datasets are easy to process and create inference.\n",
    "\n",
    "To download the dataset into your notebook or local machine, you can run the following code."
   ]
  },
  {
   "cell_type": "code",
   "execution_count": 3,
   "metadata": {},
   "outputs": [
    {
     "name": "stderr",
     "output_type": "stream",
     "text": [
      "[nltk_data] Downloading package twitter_samples to C:\\Users\\MRUTYUNJAY\n",
      "[nltk_data]     BISWAL\\AppData\\Roaming\\nltk_data...\n",
      "[nltk_data]   Unzipping corpora\\twitter_samples.zip.\n"
     ]
    },
    {
     "data": {
      "text/plain": [
       "True"
      ]
     },
     "execution_count": 3,
     "metadata": {},
     "output_type": "execute_result"
    }
   ],
   "source": [
    "nltk.download('twitter_samples')"
   ]
  },
  {
   "cell_type": "markdown",
   "metadata": {},
   "source": [
    "We can load the text fields of the positive and negative tweets by using the module's stirng method as following."
   ]
  },
  {
   "cell_type": "code",
   "execution_count": 4,
   "metadata": {},
   "outputs": [],
   "source": [
    "# select the set of pos and neg tweets\n",
    "all_pos_tweets = twitter_samples.strings('positive_tweets.json')\n",
    "all_neg_tweets = twitter_samples.strings('negative_tweets.json')"
   ]
  },
  {
   "cell_type": "markdown",
   "metadata": {},
   "source": [
    "So, let's see how many have we got? Let's print the tweets and their length and type. Its essential to know the format or sructure of the data you are playing with."
   ]
  },
  {
   "cell_type": "code",
   "execution_count": 9,
   "metadata": {},
   "outputs": [
    {
     "name": "stdout",
     "output_type": "stream",
     "text": [
      "We have got 5000 positive tweets\n",
      "We have got 5000 negative tweets\n",
      "The type of all_pos_tweets/all_neg_tweets is <class 'list'>\n",
      "Tweets are given in the form of <class 'str'>\n"
     ]
    }
   ],
   "source": [
    "print(f\"We have got {len(all_pos_tweets)} positive tweets\")\n",
    "print(f\"We have got {len(all_neg_tweets)} negative tweets\")\n",
    "\n",
    "print(f\"The type of all_pos_tweets/all_neg_tweets is {type(all_neg_tweets)}\")\n",
    "print(f\"Tweets are given in the form of {type(all_pos_tweets[0])}\")"
   ]
  },
  {
   "cell_type": "markdown",
   "metadata": {},
   "source": [
    "As we can see, the data is perfectly balanced i.e 5000 samples in each class. And all the tweets are stored as type `string` in a `list."
   ]
  },
  {
   "cell_type": "markdown",
   "metadata": {},
   "source": [
    "We can make a more visual representation of our data representation. Let's see how we can create a pie chart using matplotlib library. This snippet will be very useful while analysing this kind of data in future."
   ]
  },
  {
   "cell_type": "code",
   "execution_count": 12,
   "metadata": {},
   "outputs": [
    {
     "data": {
      "image/png": "[encoded data removed]",
      "text/plain": [
       "<Figure size 432x432 with 1 Axes>"
      ]
     },
     "metadata": {},
     "output_type": "display_data"
    }
   ],
   "source": [
    "# Declare a fig with custom size\n",
    "fig = plt.figure(figsize=(6, 6))\n",
    "\n",
    "# define labels for our classes\n",
    "labels = ('Positive', 'negative')\n",
    "\n",
    "# sizes of each slide\n",
    "sizes = [len(all_pos_tweets), len(all_neg_tweets)]\n",
    "\n",
    "# declare the pie chart where the slices will be ordered and plotted counter-clockwise\n",
    "plt.pie(sizes,\n",
    "       labels=labels,\n",
    "       autopct='%1.1f%%',\n",
    "       shadow=True,\n",
    "       startangle=90)\n",
    "# the argument details can be found on the official documentation of matplotlib\n",
    "# equal aspect ratio ensures that pie chart is drawn as a circle\n",
    "plt.axis('equal')\n",
    "\n",
    "# display the chart\n",
    "plt.show()"
   ]
  },
  {
   "cell_type": "markdown",
   "metadata": {},
   "source": [
    "# Examining the raw texts\n",
    "\n",
    "Before anything else, we can print a couple of tweets from the dataset to see how they look. Understanding the data is responsible for $80\\%$ of the success or failure in data science projects. We can use this time to observe the aspects we would like to consider when preprocessing our data."
   ]
  },
  {
   "cell_type": "code",
   "execution_count": 13,
   "metadata": {},
   "outputs": [
    {
     "name": "stdout",
     "output_type": "stream",
     "text": [
      "\u001b[92m@sambirdracing Hell yes!! Will be at Donington Park on 24/25 hoping to see you and the team again! Season 2 is OURS :D @VirginRacingFE\n",
      "\u001b[91m:( now im feeling lonely wth https://t.co/6NrxEGjSv3\n"
     ]
    }
   ],
   "source": [
    "# for convenience, I am adding color specifications to it\n",
    "print('\\033[92m' + all_pos_tweets[random.randint(0, len(all_pos_tweets))])\n",
    "print('\\033[91m' + all_neg_tweets[random.randint(0, len(all_neg_tweets))])"
   ]
  },
  {
   "cell_type": "markdown",
   "metadata": {},
   "source": [
    "The major take away could be: the tweets may contain emoticons and hyperlinks as well. This info will come handy in the next steps, stick in :)"
   ]
  },
  {
   "cell_type": "markdown",
   "metadata": {},
   "source": [
    "# Preprocessing raw texts for Sentiment Analysis"
   ]
  },
  {
   "cell_type": "markdown",
   "metadata": {},
   "source": [
    "Data preprocessing is one of the critical steps in any machine learning project. It includes cleaning and formatting the data before feeding into a machine learning model. For NLP, the initial processing steps are comprised of the following steps.\n",
    "\n",
    "- Tokenizing the text data\n",
    "- Lowercasing\n",
    "- Removing stop words and punctuation\n",
    "- Stemming and/or Lemmatization"
   ]
  },
  {
   "cell_type": "code",
   "execution_count": 14,
   "metadata": {},
   "outputs": [
    {
     "name": "stdout",
     "output_type": "stream",
     "text": [
      "My beautiful sunflowers on a sunny Friday morning off :) #sunflowers #favourites #happy #Friday off… https://t.co/3tfYom0N1i\n"
     ]
    }
   ],
   "source": [
    "# let's just pick one example and understand all of the steps above\n",
    "tweet = all_pos_tweets[2277]\n",
    "print(tweet)"
   ]
  },
  {
   "cell_type": "markdown",
   "metadata": {},
   "source": [
    "So our example contains emoticons and urls too."
   ]
  },
  {
   "cell_type": "code",
   "execution_count": 15,
   "metadata": {},
   "outputs": [],
   "source": [
    "# let's import some libraries as per our requirement\n",
    "import re                                 # lib for regular expression operations\n",
    "import string                             # lib for string operations\n",
    "\n",
    "from nltk.corpus import stopwords         # module for stop word removal that comes with NLTK\n",
    "from nltk.stem import PorterStemmer       # module for stemming\n",
    "from nltk.tokenize import TweetTokenizer  # module for tokenizing strings"
   ]
  },
  {
   "cell_type": "markdown",
   "metadata": {},
   "source": [
    "## Remove hyperlinks, Twitter marks and styles\n",
    "\n",
    "Since we have a twitter dataset, we would like to remove some substrings commonly used on the platform like the hashtag, retweet marks and hyperlinks. We will use the `re` library to perform regular expression operations on our tweet. We will define our search pattern and use the `sub()` method to remove matches by substituting with an empty charachter.(i.e ' ')"
   ]
  },
  {
   "cell_type": "code",
   "execution_count": 18,
   "metadata": {},
   "outputs": [
    {
     "name": "stdout",
     "output_type": "stream",
     "text": [
      "\u001b[92mMy beautiful sunflowers on a sunny Friday morning off :) #sunflowers #favourites #happy #Friday off… https://t.co/3tfYom0N1i\n",
      "\u001b[94m\n",
      "My beautiful sunflowers on a sunny Friday morning off :) sunflowers favourites happy Friday off… https://t.co/3tfYom0N1i\n"
     ]
    }
   ],
   "source": [
    "print('\\033[92m' + tweet)\n",
    "print('\\033[94m')  # adds an aditional new line\n",
    "\n",
    "# remove old style retweet text \"RT\"\n",
    "tweet2 = re.sub(r'^RT[\\s]+', '', tweet)\n",
    "# let's understand the pattern\n",
    "# ^RT means tweets starting from RT keyword\n",
    "# [\\s]+ means the characters matching after RT\n",
    "# and replace the pattern with an empty string\n",
    "\n",
    "# now remove hashtags\n",
    "tweet2 = re.sub(r'#', '', tweet2)\n",
    "\n",
    "print(tweet2)"
   ]
  },
  {
   "cell_type": "markdown",
   "metadata": {},
   "source": [
    "## Tokenize the string\n",
    "\n",
    "To tokenize the strings means to split the string into individual words without blanks or tabs. In the same step, we will also convert each word in the string to lower case. The `tokenize` module from NLTK does the work for us."
   ]
  },
  {
   "cell_type": "code",
   "execution_count": 24,
   "metadata": {},
   "outputs": [
    {
     "name": "stdout",
     "output_type": "stream",
     "text": [
      "\n",
      "\u001b[92mMy beautiful sunflowers on a sunny Friday morning off :) #sunflowers #favourites #happy #Friday off… https://t.co/3tfYom0N1i\n",
      "\u001b[94m\n",
      "\n",
      "Tokenized string: \n",
      "\n",
      "['my', 'beautiful', 'sunflowers', 'on', 'a', 'sunny', 'friday', 'morning', 'off', ':)', 'sunflowers', 'favourites', 'happy', 'friday', 'off', '…', 'https://t.co/3tfYom0N1i']\n"
     ]
    }
   ],
   "source": [
    "print()\n",
    "print('\\033[92m' + tweet)\n",
    "print('\\033[94m')\n",
    "\n",
    "# instantiate the tokenizer class\n",
    "tokenizer = TweetTokenizer(preserve_case=False,\n",
    "                          strip_handles=True,\n",
    "                          reduce_len=True)\n",
    "\n",
    "# tokenize the tweets\n",
    "tweet_tokens = tokenizer.tokenize(tweet2)\n",
    "\n",
    "print()\n",
    "print(\"Tokenized string: \\n\")\n",
    "print(tweet_tokens)"
   ]
  },
  {
   "cell_type": "markdown",
   "metadata": {},
   "source": [
    "## Remove Stop words and Punctuations\n",
    "\n",
    "The next step is to remove the stop words and punctuations. `Stop words` are words those do not bring any significant meaning to the text."
   ]
  },
  {
   "cell_type": "code",
   "execution_count": 26,
   "metadata": {},
   "outputs": [
    {
     "name": "stdout",
     "output_type": "stream",
     "text": [
      "Stop words: \n",
      "\n",
      "['i', 'me', 'my', 'myself', 'we', 'our', 'ours', 'ourselves', 'you', \"you're\", \"you've\", \"you'll\", \"you'd\", 'your', 'yours', 'yourself', 'yourselves', 'he', 'him', 'his', 'himself', 'she', \"she's\", 'her', 'hers', 'herself', 'it', \"it's\", 'its', 'itself', 'they', 'them', 'their', 'theirs', 'themselves', 'what', 'which', 'who', 'whom', 'this', 'that', \"that'll\", 'these', 'those', 'am', 'is', 'are', 'was', 'were', 'be', 'been', 'being', 'have', 'has', 'had', 'having', 'do', 'does', 'did', 'doing', 'a', 'an', 'the', 'and', 'but', 'if', 'or', 'because', 'as', 'until', 'while', 'of', 'at', 'by', 'for', 'with', 'about', 'against', 'between', 'into', 'through', 'during', 'before', 'after', 'above', 'below', 'to', 'from', 'up', 'down', 'in', 'out', 'on', 'off', 'over', 'under', 'again', 'further', 'then', 'once', 'here', 'there', 'when', 'where', 'why', 'how', 'all', 'any', 'both', 'each', 'few', 'more', 'most', 'other', 'some', 'such', 'no', 'nor', 'not', 'only', 'own', 'same', 'so', 'than', 'too', 'very', 's', 't', 'can', 'will', 'just', 'don', \"don't\", 'should', \"should've\", 'now', 'd', 'll', 'm', 'o', 're', 've', 'y', 'ain', 'aren', \"aren't\", 'couldn', \"couldn't\", 'didn', \"didn't\", 'doesn', \"doesn't\", 'hadn', \"hadn't\", 'hasn', \"hasn't\", 'haven', \"haven't\", 'isn', \"isn't\", 'ma', 'mightn', \"mightn't\", 'mustn', \"mustn't\", 'needn', \"needn't\", 'shan', \"shan't\", 'shouldn', \"shouldn't\", 'wasn', \"wasn't\", 'weren', \"weren't\", 'won', \"won't\", 'wouldn', \"wouldn't\"]\n",
      "\n",
      "Punctuations: \n",
      "\n",
      "!\"#$%&'()*+,-./:;<=>?@[\\]^_`{|}~\n"
     ]
    }
   ],
   "source": [
    "# import the english stop words list from nltk\n",
    "stopwords_en = stopwords.words('english')\n",
    "\n",
    "print('Stop words: \\n')\n",
    "print(stopwords_en)\n",
    "\n",
    "print('\\nPunctuations: \\n')\n",
    "print(string.punctuation)"
   ]
  },
  {
   "cell_type": "markdown",
   "metadata": {},
   "source": [
    "We can see that the stop words listed above contains some words that could be important in some contexts. These could be words like _i, not, between, because_. We might need to customize the list of stop words for some applications, for now, lets move ahead.\n",
    "\n",
    "For the punctuation, we saw earlier that `:)` like ones contains sentiment, so we are gonna retain them. For other applicaions like medical analysis, we can remove such tokens from our vocab."
   ]
  },
  {
   "cell_type": "markdown",
   "metadata": {},
   "source": [
    "Time to clean up our tokenized tweets."
   ]
  },
  {
   "cell_type": "code",
   "execution_count": 27,
   "metadata": {},
   "outputs": [
    {
     "name": "stdout",
     "output_type": "stream",
     "text": [
      "\n",
      "\u001b[92m\n",
      "['my', 'beautiful', 'sunflowers', 'on', 'a', 'sunny', 'friday', 'morning', 'off', ':)', 'sunflowers', 'favourites', 'happy', 'friday', 'off', '…', 'https://t.co/3tfYom0N1i']\n",
      "\u001b[94m\n",
      "Removed stop words and Punctuation: \n",
      "['beautiful', 'sunflowers', 'sunny', 'friday', 'morning', ':)', 'sunflowers', 'favourites', 'happy', 'friday', '…', 'https://t.co/3tfYom0N1i']\n"
     ]
    }
   ],
   "source": [
    "print()\n",
    "print('\\033[92m')\n",
    "print(tweet_tokens)\n",
    "print('\\033[94m')\n",
    "\n",
    "cleaned_tweets = []\n",
    "\n",
    "for word in tweet_tokens:\n",
    "    if (word not in stopwords_en) and (word not in string.punctuation):\n",
    "        cleaned_tweets.append(word)\n",
    "        \n",
    "print('Removed stop words and Punctuation: ')\n",
    "print(cleaned_tweets)"
   ]
  },
  {
   "cell_type": "markdown",
   "metadata": {},
   "source": [
    "## Stemming"
   ]
  },
  {
   "cell_type": "markdown",
   "metadata": {},
   "source": [
    "Stemming is the process of converting a word to its most general form or stem. This helps in reducing the size of our vocabulary. \n",
    "\n",
    "Consider the words:\n",
    "\n",
    "- **learn**\n",
    "- **learn**ing\n",
    "- **learn**ed\n",
    "- **learn**t\n",
    "\n",
    "All these words are stemmed from its common root learn. However, in some cases, the stemming process produces words that are not correct spellings of the root word. For example, **happi** and **sunni**. That's because it choosed the most common stem for related words. For example, we can look at the set of words that comprises the different forms of happy. \n",
    "\n",
    "- **happy**\n",
    "- **happi**ness\n",
    "- **happi**er\n",
    "\n",
    "We can see that **happi** is more oftenly used. We can not choose **happ** because it is the stem of unrealted words like **happen**.\n",
    "\n",
    "***NLTK*** has different modules dedicated to serve the purpose and we will be using the **PorterStemmer** module which uses the **Porter Stemming Algorithm**. Let's see what happens."
   ]
  },
  {
   "cell_type": "code",
   "execution_count": 30,
   "metadata": {},
   "outputs": [
    {
     "name": "stdout",
     "output_type": "stream",
     "text": [
      "\n",
      "\u001b[92m\n",
      "['beautiful', 'sunflowers', 'sunny', 'friday', 'morning', ':)', 'sunflowers', 'favourites', 'happy', 'friday', '…', 'https://t.co/3tfYom0N1i']\n",
      "\u001b[94m\n",
      "Stemmed Words: \n",
      "\n",
      "['beauti', 'sunflow', 'sunni', 'friday', 'morn', ':)', 'sunflow', 'favourit', 'happi', 'friday', '…', 'https://t.co/3tfyom0n1i']\n"
     ]
    }
   ],
   "source": [
    "print()\n",
    "print('\\033[92m')\n",
    "print(cleaned_tweets)\n",
    "print('\\033[94m')\n",
    "\n",
    "# instantiate stemming class\n",
    "stemmer = PorterStemmer()\n",
    "\n",
    "# create an empty list to store the stems\n",
    "tweets_stems = []\n",
    "\n",
    "for word in cleaned_tweets:\n",
    "    stemWord = stemmer.stem(word)  # stem the word\n",
    "    tweets_stems.append(stemWord)\n",
    "    \n",
    "print('Stemmed Words: \\n')\n",
    "print(tweets_stems)"
   ]
  },
  {
   "cell_type": "markdown",
   "metadata": {},
   "source": [
    "That's it. We are ready to feed our somewhat processed dataset into our next of the machine learning project.\n",
    "\n",
    "# Putting it all together"
   ]
  },
  {
   "cell_type": "markdown",
   "metadata": {},
   "source": [
    "As its always referred to write modular code, let's put these all together into a function called `preprocess_tweets()` so that we can call the function and all the preprocessing steps will get executed on our selected chunk of data."
   ]
  },
  {
   "cell_type": "code",
   "execution_count": 38,
   "metadata": {},
   "outputs": [],
   "source": [
    "def preprocess_tweets(tweet):\n",
    "    \"\"\"\n",
    "    args:\n",
    "    tweet: a sample of tweet of type string\n",
    "    \n",
    "    output: \n",
    "        cleaned_tweets: a list of word containing the processed tweets\n",
    "    \"\"\"\n",
    "    # instantiate the tokenizer\n",
    "    tokenizer = TweetTokenizer(preserve_case=False,\n",
    "                              strip_handles=True,\n",
    "                              reduce_len=True)\n",
    "    # instantiate the stemmer\n",
    "    stemmer = PorterStemmer()\n",
    "    # collect the stopwords\n",
    "    stopwords_en = stopwords.words('english')\n",
    "    # collect the punctuation marks\n",
    "    punctuations = string.punctuation\n",
    "    \n",
    "    # remove stock market stickers like $\n",
    "    tweet = re.sub(r'\\$\\w*', '', tweet)\n",
    "    # remove old style retweet texts like RT\n",
    "    tweet = re.sub(r'^RT[\\s]+', '', tweet)\n",
    "    # remove hyperliks, cause what sentiment do they represent? :D\n",
    "    tweet = re.sub(r'https?:\\/\\/.*[\\r\\n]*', '', tweet)\n",
    "    # remove # tags\n",
    "    tweet = re.sub(r'#', '', tweet)\n",
    "    \n",
    "    tweet_tokens = tokenizer.tokenize(tweet)\n",
    "    \n",
    "    cleaned_tweets = []\n",
    "    for word in tweet_tokens:\n",
    "        if (word not in stopwords_en) and (word not in punctuations):\n",
    "            stem_word = stemmer.stem(word)\n",
    "            cleaned_tweets.append(stem_word)\n",
    "            \n",
    "    return cleaned_tweets\n",
    "    pass"
   ]
  },
  {
   "cell_type": "code",
   "execution_count": 42,
   "metadata": {},
   "outputs": [
    {
     "name": "stdout",
     "output_type": "stream",
     "text": [
      "\n",
      "\u001b[92m\n",
      "My beautiful sunflowers on a sunny Friday morning off :) #sunflowers #favourites #happy #Friday off… https://t.co/3tfYom0N1i\n",
      "\u001b[94m\n",
      "Tweet stems after preprocessing: \n",
      "\n",
      "['beauti', 'sunflow', 'sunni', 'friday', 'morn', ':)', 'sunflow', 'favourit', 'happi', 'friday', '…']\n"
     ]
    }
   ],
   "source": [
    "print()\n",
    "print('\\033[92m')\n",
    "print(tweet)\n",
    "print('\\033[94m')\n",
    "\n",
    "processed_tweet = preprocess_tweets(tweet)\n",
    "\n",
    "print(\"Tweet stems after preprocessing: \\n\")\n",
    "print(processed_tweet)"
   ]
  },
  {
   "cell_type": "markdown",
   "metadata": {},
   "source": [
    "Yey! We have our stemmed tokens for further processing/modelling. If you had fun reading this notebook, consider upvoting.😀😀"
   ]
  }
 ],
 "metadata": {
  "kernelspec": {
   "display_name": "Python 3",
   "language": "python",
   "name": "python3"
  },
  "language_info": {
   "codemirror_mode": {
    "name": "ipython",
    "version": 3
   },
   "file_extension": ".py",
   "mimetype": "text/x-python",
   "name": "python",
   "nbconvert_exporter": "python",
   "pygments_lexer": "ipython3",
   "version": "3.7.4"
  }
 },
 "nbformat": 4,
 "nbformat_minor": 4
}
