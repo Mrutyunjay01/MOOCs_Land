{
 "cells": [
  {
   "cell_type": "code",
   "execution_count": 1,
   "metadata": {},
   "outputs": [],
   "source": [
    "import numpy as np"
   ]
  },
  {
   "cell_type": "code",
   "execution_count": 3,
   "metadata": {},
   "outputs": [],
   "source": [
    "la = np.linalg"
   ]
  },
  {
   "cell_type": "code",
   "execution_count": 4,
   "metadata": {},
   "outputs": [],
   "source": [
    "words = ['I','Like', 'enjoy', 'deep', 'learning', 'NLP','flying', '.']"
   ]
  },
  {
   "cell_type": "code",
   "execution_count": 22,
   "metadata": {},
   "outputs": [],
   "source": [
    "X = np.array([[0, 2, 1, 0, 0, 0, 0, 0],\n",
    "              [2, 0, 0, 1, 0, 1, 0, 0],\n",
    "              [1, 0, 0, 0, 0, 0, 1, 0],\n",
    "              [0, 1, 0, 0, 1, 0, 0, 0],\n",
    "              [0, 0, 0, 1, 0, 0, 0, 1],\n",
    "              [0, 1, 0, 0, 0, 0, 0, 1],\n",
    "              [0, 0, 1, 0, 0, 0, 0, 1],\n",
    "              [0, 0, 0, 0, 1, 1, 1, 0]])"
   ]
  },
  {
   "cell_type": "code",
   "execution_count": 23,
   "metadata": {},
   "outputs": [],
   "source": [
    "U, s, Vh = la.svd(X, full_matrices=False)"
   ]
  },
  {
   "cell_type": "code",
   "execution_count": 24,
   "metadata": {},
   "outputs": [
    {
     "data": {
      "text/plain": [
       "array([[-5.24124930e-01, -5.72859145e-01,  9.54463014e-02,\n",
       "         3.83228493e-01, -1.76963375e-01, -1.76092183e-01,\n",
       "        -4.19185600e-01, -5.57702732e-02],\n",
       "       [-5.94438071e-01,  6.30120664e-01, -1.70207779e-01,\n",
       "         3.10038363e-01,  1.84062339e-01, -2.34777849e-01,\n",
       "         1.29535474e-01,  1.36813128e-01],\n",
       "       [-2.56274005e-01,  2.74017533e-01,  1.59810848e-01,\n",
       "         2.22044605e-16, -5.78984617e-01,  6.36550929e-01,\n",
       "         3.33066907e-16, -3.05414877e-01],\n",
       "       [-2.85637408e-01, -2.47912130e-01,  3.54610324e-01,\n",
       "        -7.31901294e-02,  4.45784489e-01,  8.36141432e-02,\n",
       "         5.48721075e-01, -4.68012411e-01],\n",
       "       [-1.93139313e-01,  3.38495048e-02, -5.00790405e-01,\n",
       "        -4.28462480e-01,  3.47110226e-01,  1.55483227e-01,\n",
       "        -4.68663749e-01, -4.03576557e-01],\n",
       "       [-3.05134684e-01, -2.93988990e-01, -2.23433593e-01,\n",
       "        -1.91614246e-01,  1.27460940e-01,  4.91219408e-01,\n",
       "         2.09592800e-01,  6.57535375e-01],\n",
       "       [-1.82489837e-01, -1.61027767e-01, -3.97842428e-01,\n",
       "        -3.83228493e-01, -5.12923221e-01, -4.27574417e-01,\n",
       "         4.19185600e-01, -1.18313828e-01],\n",
       "       [-2.46898426e-01,  1.57254762e-01,  5.92991677e-01,\n",
       "        -6.20076727e-01, -3.21868120e-02, -2.31065080e-01,\n",
       "        -2.59070949e-01,  2.37976916e-01]])"
      ]
     },
     "execution_count": 24,
     "metadata": {},
     "output_type": "execute_result"
    }
   ],
   "source": [
    "U"
   ]
  },
  {
   "cell_type": "code",
   "execution_count": 25,
   "metadata": {},
   "outputs": [],
   "source": [
    "import matplotlib.pyplot as plt"
   ]
  },
  {
   "cell_type": "code",
   "execution_count": 26,
   "metadata": {},
   "outputs": [
    {
     "data": {
      "image/png": "[encoded data removed]",
      "text/plain": [
       "<Figure size 432x288 with 1 Axes>"
      ]
     },
     "metadata": {
      "needs_background": "light"
     },
     "output_type": "display_data"
    }
   ],
   "source": [
    "for i in range(len(words)):\n",
    "    plt.text(U[i, 0], U[i, 1], words[i])"
   ]
  },
  {
   "cell_type": "code",
   "execution_count": 27,
   "metadata": {},
   "outputs": [],
   "source": [
    "x = [89, 72, 94, 69]"
   ]
  },
  {
   "cell_type": "code",
   "execution_count": 29,
   "metadata": {},
   "outputs": [],
   "source": [
    "x = np.array(x)"
   ]
  },
  {
   "cell_type": "code",
   "execution_count": 30,
   "metadata": {},
   "outputs": [
    {
     "data": {
      "text/plain": [
       "array([89, 72, 94, 69])"
      ]
     },
     "execution_count": 30,
     "metadata": {},
     "output_type": "execute_result"
    }
   ],
   "source": [
    "x"
   ]
  },
  {
   "cell_type": "code",
   "execution_count": 31,
   "metadata": {},
   "outputs": [],
   "source": [
    "x = x/(x.max() - x.min())"
   ]
  },
  {
   "cell_type": "code",
   "execution_count": 32,
   "metadata": {},
   "outputs": [
    {
     "data": {
      "text/plain": [
       "array([3.56, 2.88, 3.76, 2.76])"
      ]
     },
     "execution_count": 32,
     "metadata": {},
     "output_type": "execute_result"
    }
   ],
   "source": [
    "x"
   ]
  },
  {
   "cell_type": "code",
   "execution_count": 33,
   "metadata": {},
   "outputs": [],
   "source": [
    "x = (x - x.mean())/x.std()"
   ]
  },
  {
   "cell_type": "code",
   "execution_count": 35,
   "metadata": {},
   "outputs": [
    {
     "data": {
      "text/plain": [
       "array([ 0.7476309 , -0.84108476,  1.21490022, -1.12144635])"
      ]
     },
     "execution_count": 35,
     "metadata": {},
     "output_type": "execute_result"
    }
   ],
   "source": [
    "x"
   ]
  },
  {
   "cell_type": "code",
   "execution_count": 40,
   "metadata": {},
   "outputs": [
    {
     "data": {
      "text/plain": [
       "1.2149002151415942"
      ]
     },
     "execution_count": 40,
     "metadata": {},
     "output_type": "execute_result"
    }
   ],
   "source": [
    "x[2]"
   ]
  },
  {
   "cell_type": "code",
   "execution_count": null,
   "metadata": {},
   "outputs": [],
   "source": []
  }
 ],
 "metadata": {
  "kernelspec": {
   "display_name": "Python 3",
   "language": "python",
   "name": "python3"
  },
  "language_info": {
   "codemirror_mode": {
    "name": "ipython",
    "version": 3
   },
   "file_extension": ".py",
   "mimetype": "text/x-python",
   "name": "python",
   "nbconvert_exporter": "python",
   "pygments_lexer": "ipython3",
   "version": "3.7.4"
  }
 },
 "nbformat": 4,
 "nbformat_minor": 2
}
